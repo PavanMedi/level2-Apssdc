{
 "cells": [
  {
   "cell_type": "markdown",
   "metadata": {},
   "source": [
    "## play with numbers"
   ]
  },
  {
   "cell_type": "code",
   "execution_count": null,
   "metadata": {},
   "outputs": [],
   "source": [
    "# read no of array elements and no of queries\n",
    "n = input().split()\n",
    "n[0], n[1] = int(n[0]), int(n[1])\n",
    "# Read array elements\n",
    "a = input().split()\n",
    "sum = [] # initialize cumulative sum array\n",
    "# Cumulative sum\n",
    "for i in range(0, n[0]):\n",
    "    if i == 0:\n",
    "        sum.append(int(a[i]))\n",
    "        sum[i]=a[i]\n",
    "    else:\n",
    "        sum.append(int(sum([i-1])+int(a[i])\n",
    "# print(sum(n[0]-1))\n",
    "# read each query and calculate the average\n",
    "del a\n",
    "for k in range(0, n[1]):\n",
    "    inq = input().split()                  \n",
    "    i = int(inq[0])\n",
    "    j = int(inq[1])\n",
    "    if i > 1:\n",
    "    \n",
    "        print(sum[j-1]-sum[i-2])//(j-1+1)\n",
    "    else:\n",
    "        print(sum[j-1]//(j-1+1))"
   ]
  },
  {
   "cell_type": "code",
   "execution_count": null,
   "metadata": {},
   "outputs": [],
   "source": [
    "# Function to determine if a number is special or not \n",
    "def isspecialnum(n, p):\n",
    "    if numofprimefactors(n) >= p:\n",
    "        return True\n",
    "    return False\n",
    "    \n",
    "# Function to check if number is prime\n",
    "def isPrime(n):\n",
    "    if n == 2:\n",
    "        return True\n",
    "    for i in range(2, n):\n",
    "        if n % i == 0:\n",
    "            return False\n",
    "    return True\n",
    "#isPrime(3)\n",
    "# Function to determine number of  prime factors for a given number\n",
    "def numofprimefactors(n):\n",
    "    if isPrime(n):\n",
    "        return 1\n",
    "    count = 0\n",
    "    for i in range(2, n//2+1):\n",
    "        if isPrime(i) and n % i == 0:\n",
    "            count += 1\n",
    "    return count \n",
    "# numofprimefactors(6, 2) \n",
    "def solution():\n",
    "    p=int(input())\n",
    "    t=int(input())\n",
    "    for i in range(0, t):\n",
    "        n=int(input())\n",
    "        if isspecialnum(n):\n",
    "            print(\"YES\")\n",
    "        else:\n",
    "            print(\"NO\")\n",
    "isspecialnum(6, 2)"
   ]
  },
  {
   "cell_type": "markdown",
   "metadata": {},
   "source": [
    "### Problem: Highest Remainder\n",
    "-write a program to find a natural that is smaller than \n",
    "-N such that N gives highest remainder when divided by that number.\n",
    "\n",
    "N\n",
    "highest = 0\n",
    "x < N and n % x == highest\n",
    "30\n",
    "1\n",
    "2\n",
    "3\n",
    "4\n",
    "5\n",
    "6\n",
    "\n",
    "16 14\n",
    "15 0\n",
    "\n",
    "9\n",
    "8 1\n",
    "7 2\n",
    "6 3\n",
    "5 4\n",
    "4 1\n",
    "3 0\n",
    "2 4"
   ]
  },
  {
   "cell_type": "code",
   "execution_count": null,
   "metadata": {},
   "outputs": [],
   "source": [
    "def highestRemainder(n):\n",
    "    hr = 0\n",
    "    v = 0\n",
    "    for i in range(n-1, n//2+1,-1):\n",
    "        r = n % i\n",
    "        if r > hr:\n",
    "            hr = r\n",
    "            v = i\n",
    "    print(v)\n",
    "    return \n",
    "highestRemainder(5)"
   ]
  },
  {
   "cell_type": "markdown",
   "metadata": {},
   "source": [
    "### Tuples\n",
    "tuple=()\n",
    "List=[]\n",
    "\n",
    "\n",
    "difference between list and tuple\n",
    "\n",
    "lists are mutable: can be changed or modified\n",
    "- used to access, modify,add,delete data\n",
    "\n",
    "tuples are immutable: cannot be changed or modified\n",
    "- used to access data only\n",
    "- all slicing work"
   ]
  },
  {
   "cell_type": "code",
   "execution_count": 13,
   "metadata": {},
   "outputs": [
    {
     "data": {
      "text/plain": [
       "3"
      ]
     },
     "execution_count": 13,
     "metadata": {},
     "output_type": "execute_result"
    }
   ],
   "source": [
    "t=(1,2,3,4,5,6)\n",
    "t[3]#accessing fourth element\n",
    "t[3:5]#slicing\n",
    "t[len(t)//2:]#accessing all elements from middle to last\n",
    "type(t)\n",
    "t.index(4)"
   ]
  },
  {
   "cell_type": "markdown",
   "metadata": {},
   "source": [
    "### dictionaries in python\n",
    "\n",
    "It works on the concept of Set\n",
    "(unique data)\n",
    "\n",
    "consists of keys and values\n",
    "\n",
    "key is the unique identifier for a value\n",
    "\n",
    "value is data that can be accessed with a key\n"
   ]
  },
  {
   "cell_type": "code",
   "execution_count": 36,
   "metadata": {},
   "outputs": [
    {
     "data": {
      "text/plain": [
       "False"
      ]
     },
     "execution_count": 36,
     "metadata": {},
     "output_type": "execute_result"
    }
   ],
   "source": [
    "d={\"k1\":\"value1\", \"k2\":\"value2\"}\n",
    "d[\"k2\"]\n",
    "d.keys()#displays list of all keys\n",
    "d.values()#displays list of all values\n",
    "d.items()#displays all keys and values\n",
    "d[\"k3\"]=\"value3\"#addind an element to dictionary\n",
    "d[\"k3\"]=\"value4\"#updating an element\n",
    "d.pop(\"k3\")#deleting an element\n",
    "\n",
    "\"value3\" in d\n",
    "\n"
   ]
  },
  {
   "cell_type": "markdown",
   "metadata": {},
   "source": [
    "### contact application\n",
    "- add contact\n",
    "- search for contact\n",
    "- list all contacts\n",
    "    - name1:phone1\n",
    "    - name2:phone2\n",
    "- modify contact\n",
    "- remove contact"
   ]
  },
  {
   "cell_type": "code",
   "execution_count": 47,
   "metadata": {},
   "outputs": [
    {
     "name": "stdout",
     "output_type": "stream",
     "text": [
      "contact pavan added\n"
     ]
    }
   ],
   "source": [
    "contacts = {}\n",
    "def addContact(name, phone):\n",
    "    #verify that the contact doesn't already exist\n",
    "    if name not in contacts:\n",
    "        contacts[name]=phone\n",
    "        print(\"contact %s added\" %name)\n",
    "    else:\n",
    "        print(\"contact %s already exist\" %name)\n",
    "    return\n",
    "addContact(\"pavan\", \"8297651907\")\n",
    "    \n",
    "    "
   ]
  },
  {
   "cell_type": "code",
   "execution_count": 51,
   "metadata": {},
   "outputs": [
    {
     "name": "stdout",
     "output_type": "stream",
     "text": [
      "pavan : 8297651907\n"
     ]
    }
   ],
   "source": [
    "def searchContacts(name):\n",
    "    if name in contacts:\n",
    "        print(name,\":\",contacts[name])\n",
    "    else:\n",
    "        print(\"%s does not exist\" %name)\n",
    "    return\n",
    "searchContacts(\"pavan\")"
   ]
  },
  {
   "cell_type": "code",
   "execution_count": 54,
   "metadata": {},
   "outputs": [
    {
     "name": "stdout",
     "output_type": "stream",
     "text": [
      "pavan : 8297651907\n"
     ]
    }
   ],
   "source": [
    "def listallcontacts(c):\n",
    "    for i in c:\n",
    "        print(i,\":\",c[i])\n",
    "listallcontacts(contacts)\n",
    "    "
   ]
  },
  {
   "cell_type": "code",
   "execution_count": 63,
   "metadata": {},
   "outputs": [
    {
     "name": "stdout",
     "output_type": "stream",
     "text": [
      "pavan modified successfully\n"
     ]
    },
    {
     "data": {
      "text/plain": [
       "{'pavan': 9704319313, 'name2': 970, 'name3': 431}"
      ]
     },
     "execution_count": 63,
     "metadata": {},
     "output_type": "execute_result"
    }
   ],
   "source": [
    "def modifycontact(n,m):\n",
    "    contacts[n]=m\n",
    "    print(n, \"modified successfully\")\n",
    "modifycontact(\"pavan\",9704319313)\n",
    "contacts"
   ]
  },
  {
   "cell_type": "code",
   "execution_count": null,
   "metadata": {},
   "outputs": [],
   "source": []
  },
  {
   "cell_type": "code",
   "execution_count": 69,
   "metadata": {},
   "outputs": [
    {
     "name": "stdout",
     "output_type": "stream",
     "text": [
      "name3 removed\n"
     ]
    }
   ],
   "source": [
    "def removecontact(name):\n",
    "    contacts.pop(name)\n",
    "    print(name,\"removed\")\n",
    "removecontact(\"name3\")"
   ]
  },
  {
   "cell_type": "code",
   "execution_count": 62,
   "metadata": {},
   "outputs": [
    {
     "name": "stdout",
     "output_type": "stream",
     "text": [
      "2 added successfully\n"
     ]
    }
   ],
   "source": [
    "def importContacts(new):\n",
    "    contacts.update(new)\n",
    "    print(len(new.keys()),\"added successfully\")\n",
    "new={\"name2\":970,\"name3\":431}\n",
    "importContacts(new)"
   ]
  },
  {
   "cell_type": "markdown",
   "metadata": {},
   "source": [
    "## Packages and Modules\n",
    "\n",
    "**Packages**->> collection of modules(python.py)\n",
    "**subpackages**\n",
    "\n",
    "**modules**->> a songle python function containing functions\n",
    "\n",
    "packages-->> subpackages-->> modules->> functions"
   ]
  },
  {
   "cell_type": "code",
   "execution_count": 72,
   "metadata": {},
   "outputs": [
    {
     "data": {
      "text/plain": [
       "123"
      ]
     },
     "execution_count": 72,
     "metadata": {},
     "output_type": "execute_result"
    }
   ],
   "source": [
    "import math\n",
    "math.floor(123.456)\n",
    "math.pi\n",
    "from math import floor as fl\n",
    "fl(123.456)"
   ]
  },
  {
   "cell_type": "code",
   "execution_count": 83,
   "metadata": {},
   "outputs": [
    {
     "name": "stdout",
     "output_type": "stream",
     "text": [
      "42 13 17 59 99 52 21 17 47 23 "
     ]
    }
   ],
   "source": [
    "#function to generate n random numbers\n",
    "import random\n",
    "def generateNrandomnumbers(n,lb,ub):\n",
    "    for i in range(0,n):\n",
    "        print(random.randint(lb,ub),end=\" \")\n",
    "generateNrandomnumbers(10,1,100)\n",
    "#random.randint(1,100)"
   ]
  },
  {
   "cell_type": "code",
   "execution_count": 10,
   "metadata": {},
   "outputs": [
    {
     "name": "stdout",
     "output_type": "stream",
     "text": [
      "120\n"
     ]
    }
   ],
   "source": [
    "from packages import numerical\n",
    "\n",
    "numerical.factorial(5)\n"
   ]
  },
  {
   "cell_type": "code",
   "execution_count": null,
   "metadata": {},
   "outputs": [],
   "source": []
  }
 ],
 "metadata": {
  "kernelspec": {
   "display_name": "Python 3",
   "language": "python",
   "name": "python3"
  },
  "language_info": {
   "codemirror_mode": {
    "name": "ipython",
    "version": 3
   },
   "file_extension": ".py",
   "mimetype": "text/x-python",
   "name": "python",
   "nbconvert_exporter": "python",
   "pygments_lexer": "ipython3",
   "version": "3.7.3"
  }
 },
 "nbformat": 4,
 "nbformat_minor": 2
}
