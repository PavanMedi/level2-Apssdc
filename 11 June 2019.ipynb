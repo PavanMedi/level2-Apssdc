{
 "cells": [
  {
   "cell_type": "markdown",
   "metadata": {},
   "source": [
    "### Markdown Basics\n",
    "* **Bold**<br>\n",
    "* ***Bold&Italic***\n",
    "* normal text\n",
    "  * sublist1\n",
    "  * sublist2\n",
    "\n",
    "\n",
    "\n",
    ">1. ordered list  l1\n",
    ">2. ordered list l2\n",
    "\n",
    "\n",
    "[jupyterlogo](1.png)\n",
    "\n",
    "\n",
    "\n",
    "- [ ] option1\n",
    "\n",
    "\n",
    "I get 10 times more traffic from [Google]  than from\n",
    "[Yahoo]  or [MSN] \n",
    "\n",
    "  [google]: http://google.com/        \"Google\"\n",
    "  [yahoo]: http://search.yahoo.com/  \"Yahoo Search\"\n",
    "[msn]: http://search.msn.com/    \"MSN Search\"\n",
    "\n",
    "\n",
    "`printf(\"helloworld\")`\n",
    "\n",
    "<https:/google.com>\n",
    "\n",
    "<pavanpardumedi@gmail.com>"
   ]
  },
  {
   "cell_type": "markdown",
   "metadata": {},
   "source": [
    "## python basics\n",
    "python version 3.7\n",
    "\n",
    "- scripting\n",
    "- object orinted\n",
    "- functinal"
   ]
  },
  {
   "cell_type": "code",
   "execution_count": null,
   "metadata": {},
   "outputs": [],
   "source": [
    "#python comments\n",
    "\n",
    "print(\"test code\", \"!\",end=\"|\") #basic output\n",
    "print('hello python')\n"
   ]
  },
  {
   "cell_type": "markdown",
   "metadata": {},
   "source": [
    "### assignment"
   ]
  },
  {
   "cell_type": "code",
   "execution_count": null,
   "metadata": {},
   "outputs": [],
   "source": [
    "n1 = 123 #single variable asssignment\n",
    "\n",
    "n2 = n3 = n4 = n1 # multi variablee assignment\n",
    "\n",
    "a, b, c = 123, 2334, 345 # multi variable assignment with different values\n",
    "\n",
    "c  #prints"
   ]
  }
 ],
 "metadata": {
  "kernelspec": {
   "display_name": "Python 3",
   "language": "python",
   "name": "python3"
  },
  "language_info": {
   "codemirror_mode": {
    "name": "ipython",
    "version": 3
   },
   "file_extension": ".py",
   "mimetype": "text/x-python",
   "name": "python",
   "nbconvert_exporter": "python",
   "pygments_lexer": "ipython3",
   "version": "3.7.3"
  }
 },
 "nbformat": 4,
 "nbformat_minor": 2
}
