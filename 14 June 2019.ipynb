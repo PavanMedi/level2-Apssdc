{
 "cells": [
  {
   "cell_type": "markdown",
   "metadata": {},
   "source": [
    "### 14 june 2019\n",
    "#### day objectives\n",
    "- python Data Structures\n",
    "    - Lists\n",
    "    - Tuples\n",
    "    - Dictionaries\n",
    "- Basic Problem set on Data Structures\n",
    "- Advanced Problem Set\n",
    "- Packages and Modules in Python"
   ]
  },
  {
   "cell_type": "markdown",
   "metadata": {},
   "source": [
    "### python Data Structures\n",
    " - lists"
   ]
  },
  {
   "cell_type": "code",
   "execution_count": 58,
   "metadata": {},
   "outputs": [
    {
     "data": {
      "text/plain": [
       "12.25"
      ]
     },
     "execution_count": 58,
     "metadata": {},
     "output_type": "execute_result"
    }
   ],
   "source": [
    "li = [3,2,1,4]#list\n",
    "len(li)#length of list\n",
    "li[-1]#accessing elements in list -1>>index\n",
    "li[1: ]#accesing 2n element to last element\n",
    "li[::-1]#reversing list\n",
    "li=li[ : :-1]#reversing a list\n",
    "li\n",
    "li=li[::-1]#reversing back to original\n",
    "li[::2]#accessing even index elements\n",
    "li[::3]#accessing odd index elements\n",
    "#list manipulation\n",
    "    #direct referencing>>>accessin through[index]\n",
    "    #indirect referencing>>> accessing through functions\n",
    "li.append(12)#add element to end of list\n",
    "li.insert(3,123)\n",
    "li.pop()#del last element\n",
    "li.sort()\n",
    "li.pop(2)#del the indexed element\n",
    "li2=[11,22,33]\n",
    "#merge list2 into list1\n",
    "li.extend(li2)\n",
    "li2\n",
    "sum(li)#sum of li\n",
    "max(li)#max of li\n",
    "min(li)#min of li\n",
    "len(li)#length of li\n",
    "#avereage of list\n",
    "avg=sum(li)/len(li)\n",
    "avg \n",
    "li3 = li[::2]\n",
    "avg=sum(li3)/len(li3)\n",
    "avg"
   ]
  },
  {
   "cell_type": "code",
   "execution_count": 68,
   "metadata": {},
   "outputs": [
    {
     "data": {
      "text/plain": [
       "3"
      ]
     },
     "execution_count": 68,
     "metadata": {},
     "output_type": "execute_result"
    }
   ],
   "source": [
    "#function to identify second largest element\n",
    "def secondlargest(li):\n",
    "    li.sort()\n",
    "    return li[-2]\n",
    "secondlargest([4,3,2,1])\n"
   ]
  },
  {
   "cell_type": "code",
   "execution_count": 69,
   "metadata": {},
   "outputs": [
    {
     "data": {
      "text/plain": [
       "2"
      ]
     },
     "execution_count": 69,
     "metadata": {},
     "output_type": "execute_result"
    }
   ],
   "source": [
    "def genericlargest(li,n):\n",
    "    li.sort()\n",
    "    return li[-n]\n",
    "genericlargest([4,3,2,1],3)"
   ]
  },
  {
   "cell_type": "markdown",
   "metadata": {},
   "source": []
  },
  {
   "cell_type": "code",
   "execution_count": 3,
   "metadata": {},
   "outputs": [
    {
     "data": {
      "text/plain": [
       "[1, 2, 3, 4, 5]"
      ]
     },
     "execution_count": 3,
     "metadata": {},
     "output_type": "execute_result"
    }
   ],
   "source": [
    "s=\"1 2 3 4 5\"\n",
    "li=s.split()\n",
    "li\n",
    "li2=[ ]\n",
    "for i in li:\n",
    "    li2.append(int(i))\n",
    "li2"
   ]
  },
  {
   "cell_type": "code",
   "execution_count": null,
   "metadata": {},
   "outputs": [],
   "source": []
  },
  {
   "cell_type": "code",
   "execution_count": null,
   "metadata": {},
   "outputs": [],
   "source": []
  }
 ],
 "metadata": {
  "kernelspec": {
   "display_name": "Python 3",
   "language": "python",
   "name": "python3"
  },
  "language_info": {
   "codemirror_mode": {
    "name": "ipython",
    "version": 3
   },
   "file_extension": ".py",
   "mimetype": "text/x-python",
   "name": "python",
   "nbconvert_exporter": "python",
   "pygments_lexer": "ipython3",
   "version": "3.7.3"
  }
 },
 "nbformat": 4,
 "nbformat_minor": 2
}
