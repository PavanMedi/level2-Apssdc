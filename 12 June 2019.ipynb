{
 "cells": [
  {
   "cell_type": "markdown",
   "metadata": {},
   "source": [
    "### Markdown Basics\n",
    "* **Bold**<br>\n",
    "* ***Bold&Italic***\n",
    "* normal text\n",
    "  * sublist1\n",
    "  * sublist2\n",
    "\n",
    "\n",
    "\n",
    ">1. ordered list  l1\n",
    ">2. ordered list l2\n",
    "\n",
    "\n",
    "[jupyterlogo](1.png)\n",
    "\n",
    "\n",
    "\n",
    "- [ ] option1\n",
    "\n",
    "\n",
    "I get 10 times more traffic from [Google]  than from\n",
    "[Yahoo]  or [MSN] \n",
    "\n",
    "  [google]: http://google.com/        \"Google\"\n",
    "  [yahoo]: http://search.yahoo.com/  \"Yahoo Search\"\n",
    "[msn]: http://search.msn.com/    \"MSN Search\"\n",
    "\n",
    "\n",
    "`printf(\"helloworld\")`\n",
    "\n",
    "<https:/google.com>\n",
    "\n",
    "<pavanpardumedi@gmail.com>"
   ]
  },
  {
   "cell_type": "code",
   "execution_count": null,
   "metadata": {},
   "outputs": [],
   "source": []
  },
  {
   "cell_type": "markdown",
   "metadata": {},
   "source": [
    "## python basics\n",
    "python version 3.7\n",
    "\n",
    "- scripting\n",
    "- object orinted\n",
    "- functinal"
   ]
  },
  {
   "cell_type": "code",
   "execution_count": 1,
   "metadata": {},
   "outputs": [
    {
     "name": "stdout",
     "output_type": "stream",
     "text": [
      "test code !|hello python\n"
     ]
    }
   ],
   "source": [
    "#python comments\n",
    "\n",
    "print(\"test code\", \"!\",end=\"|\") #basic output\n",
    "print('hello python')\n"
   ]
  },
  {
   "cell_type": "markdown",
   "metadata": {},
   "source": [
    "### assignment"
   ]
  },
  {
   "cell_type": "code",
   "execution_count": null,
   "metadata": {},
   "outputs": [],
   "source": []
  },
  {
   "cell_type": "code",
   "execution_count": null,
   "metadata": {},
   "outputs": [],
   "source": []
  },
  {
   "cell_type": "code",
   "execution_count": 2,
   "metadata": {},
   "outputs": [
    {
     "data": {
      "text/plain": [
       "345"
      ]
     },
     "execution_count": 2,
     "metadata": {},
     "output_type": "execute_result"
    }
   ],
   "source": [
    "n1 = 123 #single variable asssignment\n",
    "\n",
    "n2 = n3 = n4 = n1 # multi variablee assignment\n",
    "\n",
    "a, b, c = 123, 2334, 345 # multi variable assignment with different values\n",
    "\n",
    "c  #prints\n"
   ]
  },
  {
   "cell_type": "markdown",
   "metadata": {},
   "source": [
    "### Data types\n",
    "- int\n",
    "- float\n",
    "- stirng"
   ]
  },
  {
   "cell_type": "code",
   "execution_count": 3,
   "metadata": {},
   "outputs": [
    {
     "data": {
      "text/plain": [
       "12.0"
      ]
     },
     "execution_count": 3,
     "metadata": {},
     "output_type": "execute_result"
    }
   ],
   "source": [
    "type(a) #integer\n",
    "s1 = \"python\" #string\n",
    "\n",
    "type(s1)\n",
    "\n",
    "f1 = 12.234 #Float\n",
    "type(f1)\n",
    "int(f1)#type conversion by taking floor value\n",
    "float(int(f1))"
   ]
  },
  {
   "cell_type": "code",
   "execution_count": null,
   "metadata": {},
   "outputs": [],
   "source": []
  },
  {
   "cell_type": "code",
   "execution_count": null,
   "metadata": {},
   "outputs": [],
   "source": []
  },
  {
   "cell_type": "markdown",
   "metadata": {},
   "source": [
    "## arthematic opetations using\n",
    "- +\n",
    "- -\n",
    "- /\n",
    "- %\n",
    "- *\n",
    "- **"
   ]
  },
  {
   "cell_type": "code",
   "execution_count": null,
   "metadata": {},
   "outputs": [],
   "source": []
  },
  {
   "cell_type": "code",
   "execution_count": null,
   "metadata": {},
   "outputs": [],
   "source": []
  },
  {
   "cell_type": "code",
   "execution_count": 4,
   "metadata": {},
   "outputs": [
    {
     "data": {
      "text/plain": [
       "123"
      ]
     },
     "execution_count": 4,
     "metadata": {},
     "output_type": "execute_result"
    }
   ],
   "source": [
    "n1 % 11\n",
    "n2 = n2**11\n",
    "type(n2)\n",
    "#len(str(n2))\n",
    "n3"
   ]
  },
  {
   "cell_type": "code",
   "execution_count": null,
   "metadata": {},
   "outputs": [],
   "source": []
  },
  {
   "cell_type": "code",
   "execution_count": 3,
   "metadata": {},
   "outputs": [
    {
     "data": {
      "text/plain": [
       "81"
      ]
     },
     "execution_count": 3,
     "metadata": {},
     "output_type": "execute_result"
    }
   ],
   "source": [
    "atoms = 10**80\n",
    "len(str(atoms))"
   ]
  },
  {
   "cell_type": "code",
   "execution_count": null,
   "metadata": {},
   "outputs": [],
   "source": []
  },
  {
   "cell_type": "markdown",
   "metadata": {},
   "source": [
    "### Conditionals"
   ]
  },
  {
   "cell_type": "code",
   "execution_count": 7,
   "metadata": {},
   "outputs": [
    {
     "name": "stdout",
     "output_type": "stream",
     "text": [
      "True\n"
     ]
    }
   ],
   "source": [
    "\n",
    "atoms = 10**80\n",
    "atoms<10**9\n",
    "print(True)"
   ]
  },
  {
   "cell_type": "code",
   "execution_count": null,
   "metadata": {},
   "outputs": [],
   "source": [
    "if 5 > 9:\n",
    "    print ('TRUE')\n",
    "else:\n",
    "    print(\"FALSE\")"
   ]
  },
  {
   "cell_type": "code",
   "execution_count": null,
   "metadata": {},
   "outputs": [],
   "source": [
    "n=123\n",
    "if n %2 == 0:\n",
    "    print(\"even\")\n",
    "else:\n",
    "    print(\"odd\")"
   ]
  },
  {
   "cell_type": "code",
   "execution_count": null,
   "metadata": {},
   "outputs": [],
   "source": [
    "n1 = int(input(\"enter first number\"))\n",
    "n2 = int(input(\"enter second number\"))\n",
    "n3 = int(input(\"enter third number\"))\n",
    "if n1>n2 and n1>n3:\n",
    "    print(n1,\"is the greatest number\")\n",
    "elif n2>n3:\n",
    "    print(n2,\"is the greatest number\")\n",
    "else:\n",
    "    print(n3,\"is the greatest number\")"
   ]
  },
  {
   "cell_type": "code",
   "execution_count": null,
   "metadata": {},
   "outputs": [],
   "source": [
    "#lenth of a num\n",
    "n = int(input(\"enter\"))\n",
    "len(str(int(n)))\n",
    "\n",
    "\n"
   ]
  },
  {
   "cell_type": "code",
   "execution_count": null,
   "metadata": {},
   "outputs": [],
   "source": [
    "#calculate square root of a number\n",
    "n = int((input(\"enter the num\")))\n",
    "m = float(n ** 0.5)\n",
    "print(\"sq_root of given number\", m)\n"
   ]
  },
  {
   "cell_type": "code",
   "execution_count": null,
   "metadata": {},
   "outputs": [],
   "source": [
    "# given string is equal to a number\n",
    "n = str(input(\"enter a string\"))\n",
    "m = int(input(\"enter a number\"))\n",
    "if n == str(m):\n",
    "    print(n, \"equal to\", m)\n",
    "else:\n",
    "    print(n, \"not equal\", m)\n",
    "    \n",
    "\n"
   ]
  },
  {
   "cell_type": "code",
   "execution_count": null,
   "metadata": {},
   "outputs": [],
   "source": [
    "a = 12\n",
    "print(a, type(a))"
   ]
  },
  {
   "cell_type": "code",
   "execution_count": null,
   "metadata": {},
   "outputs": [],
   "source": [
    "a = \"string\"\n",
    "print(a, type(a))"
   ]
  },
  {
   "cell_type": "code",
   "execution_count": null,
   "metadata": {},
   "outputs": [],
   "source": [
    "a=1\n",
    "b=0\n",
    "a&b"
   ]
  },
  {
   "cell_type": "code",
   "execution_count": null,
   "metadata": {
    "scrolled": true
   },
   "outputs": [],
   "source": [
    "s=\"python\"#reverse of a string..\n",
    "s[-1:-3:-1]\n",
    "b= float(len(s)/2)+1\n",
    "s[len(s)//2:len(s)//2-2:-1]\n",
    "float(len(s)/2)\n",
    "s[-1: :-2]\n",
    "s[ : :2]\n"
   ]
  },
  {
   "cell_type": "code",
   "execution_count": null,
   "metadata": {},
   "outputs": [],
   "source": []
  },
  {
   "cell_type": "markdown",
   "metadata": {},
   "source": [
    "## functions"
   ]
  },
  {
   "cell_type": "code",
   "execution_count": null,
   "metadata": {},
   "outputs": [],
   "source": [
    "#function to reverse a string\n",
    "def reverseString(s):\n",
    "    return s[::-1]\n",
    "reverseString(\"python\")"
   ]
  },
  {
   "cell_type": "code",
   "execution_count": null,
   "metadata": {},
   "outputs": [],
   "source": [
    "#Funtion to check if string is a palindrom\n",
    "def palindrome(s):\n",
    "    if s == s[::-1]:\n",
    "        return True\n",
    "    else:\n",
    "        return False\n",
    "palindrome(\"r\")\n"
   ]
  },
  {
   "cell_type": "code",
   "execution_count": null,
   "metadata": {},
   "outputs": [],
   "source": [
    "def numofdigits(a):\n",
    "    return len(str(a))\n",
    "numofdigits(1234)"
   ]
  },
  {
   "cell_type": "code",
   "execution_count": null,
   "metadata": {},
   "outputs": [],
   "source": [
    "def greatestoffour(a,b,c,d):\n",
    "    if a>b and a>c and a>d:\n",
    "        return a \n",
    "    elif b>c and b>d:\n",
    "        return b \n",
    "    elif c>d:\n",
    "        return c \n",
    "    else:\n",
    "        return d \n",
    "greatestoffour(2,3,4,5)"
   ]
  },
  {
   "cell_type": "code",
   "execution_count": null,
   "metadata": {},
   "outputs": [],
   "source": []
  },
  {
   "cell_type": "markdown",
   "metadata": {},
   "source": [
    "## iteration\n",
    "\n",
    "- for\n",
    "- while\n"
   ]
  },
  {
   "cell_type": "code",
   "execution_count": null,
   "metadata": {},
   "outputs": [],
   "source": [
    "#functions to print n natural numbers\n",
    "def naturalnum(n):\n",
    "    for i in range(1, n+1):\n",
    "        print(i, end=(\" \"))\n",
    "    #return\n",
    "    \n",
    "naturalnum(10)"
   ]
  },
  {
   "cell_type": "code",
   "execution_count": null,
   "metadata": {},
   "outputs": [],
   "source": [
    "#using while loop\n",
    "def Nnaturalnum(n):\n",
    "    i = 1\n",
    "    while i <=n:\n",
    "        print(i, end=\" \")\n",
    "        i = i+1\n",
    "    return\n",
    "Nnaturalnum(10)"
   ]
  },
  {
   "cell_type": "code",
   "execution_count": null,
   "metadata": {},
   "outputs": [],
   "source": [
    "import keyword\n",
    "print (keyword.kwlist)"
   ]
  },
  {
   "cell_type": "code",
   "execution_count": null,
   "metadata": {},
   "outputs": [],
   "source": [
    "#numbers divided bu 6 and not a multiple of 100\n",
    "def divisibleby6(a,b):\n",
    "    for i in range(a,b+1):\n",
    "        if i%6==0 and 100%i!=0:\n",
    "            print(i)\n",
    "divisibleby6(1,50)"
   ]
  },
  {
   "cell_type": "code",
   "execution_count": null,
   "metadata": {},
   "outputs": [],
   "source": [
    "#sum of  cubes of even numbers in given range\n",
    "def sumofevencubes(a,b):\n",
    "    s=0\n",
    "    for i in range(a,b+1):\n",
    "        if i%2==0:\n",
    "            s=s+i**3\n",
    "    print(s)\n",
    "    \n",
    "sumofevencubes(1,10)\n"
   ]
  },
  {
   "cell_type": "code",
   "execution_count": null,
   "metadata": {},
   "outputs": [],
   "source": [
    "#average of first n prime numbers\n",
    "def averageofprimenum(n):\n",
    "    s=0\n",
    "    c2=0\n",
    "    for i in range(1,n+1):\n",
    "        count=0\n",
    "        for j in range(1,i+1):\n",
    "            if i%j==0:\n",
    "                count=count+1\n",
    "        if count==2:\n",
    "            s=s+i\n",
    "            c2=c2+1\n",
    "            print(i, end=\" \")\n",
    "            \n",
    "   \n",
    "    print(s)\n",
    "    print(c2)\n",
    "    print(\"average of prime numbers is \", s/c2)\n",
    "    return\n",
    "averageofprimenum(10)\n",
    "    \n",
    "    \n",
    "        "
   ]
  },
  {
   "cell_type": "code",
   "execution_count": null,
   "metadata": {},
   "outputs": [],
   "source": [
    "def perfectnum(n):\n",
    "    s=0\n",
    "    for i in range (1,n):\n",
    "        s=0\n",
    "        for j in range(1,i):\n",
    "            if i%j==0:\n",
    "                s=s+j\n",
    "        if s==i:\n",
    "            print(i)\n",
    "    return\n",
    "perfectnum(500)\n",
    "\n",
    "            "
   ]
  },
  {
   "cell_type": "code",
   "execution_count": null,
   "metadata": {},
   "outputs": [],
   "source": [
    "def factorial(n):\n",
    "    f=1\n",
    "    for i in range(1,n+1):\n",
    "        f=f*i\n",
    "    print(f)\n",
    "    \n",
    "    return\n",
    "factorial(3)\n",
    "        \n",
    "    "
   ]
  },
  {
   "cell_type": "markdown",
   "metadata": {},
   "source": [
    "### Additional problems"
   ]
  },
  {
   "cell_type": "code",
   "execution_count": null,
   "metadata": {},
   "outputs": [],
   "source": [
    "#function to calculate average of all facors of a number\n",
    "def avgoffactors(n,lb,ub):\n",
    "    sum=0\n",
    "    count=0\n",
    "    for lb in range(lb,ub+1):\n",
    "        if n%lb==0:\n",
    "            sum=sum+lb\n",
    "            count=count+1\n",
    "    print(\"average of factorial in given range is\", sum/count)\n",
    "    return\n",
    "avgoffactors(20,1,10)\n",
    "\n",
    "    \n",
    "    "
   ]
  },
  {
   "cell_type": "code",
   "execution_count": null,
   "metadata": {},
   "outputs": [],
   "source": [
    "#avg of factorials in a given range\n",
    "def avgoffactorial(a,b):\n",
    "    s=0\n",
    "    for i in range (a,b+1):\n",
    "        f=1\n",
    "        for j in range(1,i+1):\n",
    "            f=f*j\n",
    "        s=s+f\n",
    "    #print(s)\n",
    "    #print(b-a+1)\n",
    "    print(\"avg of facorials\", s/(b-a+1))\n",
    "avgoffactorial(1,3)\n",
    "    \n",
    "    \n",
    "        "
   ]
  },
  {
   "cell_type": "code",
   "execution_count": null,
   "metadata": {},
   "outputs": [],
   "source": [
    "def NoddangstromNum(n):\n",
    "    #count=0\n",
    "    num=100\n",
    "    while(n):\n",
    "        s=0\n",
    "        temp=num\n",
    "        #b=len(str(num))\n",
    "        #rem=0\n",
    "        while(temp>0):\n",
    "            rem=temp%10\n",
    "            s=s+rem**3\n",
    "            temp=temp//10\n",
    "        if s==num:\n",
    "            if num%2!=0:\n",
    "                print(num)\n",
    "                #count=count+1\n",
    "                n=n-1\n",
    "        num=num+1\n",
    "NoddangstromNum(3)\n",
    "\n",
    "        \n",
    "        "
   ]
  },
  {
   "cell_type": "code",
   "execution_count": null,
   "metadata": {},
   "outputs": [],
   "source": [
    "#function to generate first n angstrom numbers\n",
    "def NoddangstromNum(n):\n",
    "    #count=0\n",
    "    num=1\n",
    "    while(n):\n",
    "        s=0\n",
    "        temp=num\n",
    "        if num%2!=0:\n",
    "            b=len(str(num))\n",
    "            while(temp>0):\n",
    "                rem=temp%10\n",
    "                s=s+rem**b\n",
    "                temp=temp//10\n",
    "            if s==num:\n",
    "                print(num)\n",
    "                n=n-1\n",
    "        num=num+1\n",
    "NoddangstromNum(10)\n",
    "\n",
    "        \n",
    "        "
   ]
  },
  {
   "cell_type": "code",
   "execution_count": null,
   "metadata": {},
   "outputs": [],
   "source": [
    "def multiplicationtable(num,m,n):\n",
    "    for i in range(m,n+1):\n",
    "        print(num, \"X\", i, \"=\", num*i)\n",
    "multiplicationtable(10,100,102)\n"
   ]
  },
  {
   "cell_type": "code",
   "execution_count": null,
   "metadata": {},
   "outputs": [],
   "source": [
    "def issleapyear(n):\n",
    "    if n%400==0 or(n%100!=0 and n%4==0):\n",
    "        return True\n",
    "    else:\n",
    "        return False\n",
    "        \n",
    "    \n",
    "issleapyear(2016)"
   ]
  },
  {
   "cell_type": "code",
   "execution_count": null,
   "metadata": {},
   "outputs": [],
   "source": [
    "def numberofdays(a,b):\n",
    "    days=0\n",
    "    for i in range(a,b+1):\n",
    "        if issleapyear(i):\n",
    "            days=days+366\n",
    "        else:\n",
    "            days=days+365\n",
    "    print(days)\n",
    "    return\n",
    "\n",
    "numberofdays(2016,2016)"
   ]
  },
  {
   "cell_type": "code",
   "execution_count": null,
   "metadata": {},
   "outputs": [],
   "source": [
    "#function to calculate number of hours in a range of years\n",
    "    \n",
    "def numberofdaysinmonth(month,year):\n",
    "    if month==2:\n",
    "        if leapyear(year):\n",
    "            return 29\n",
    "        return 28\n",
    "    if (month<=7 and month%2!=0 and month!=2) or (month>=8 and month%2==0 and month!=2):\n",
    "        return 31\n",
    "    else:\n",
    "        return 30\n",
    "#numberofdaysinmonth(6)\n",
    "def isleapyear(year):\n",
    "    if(year%400==0 or(year%100!=0 and year%4==0)):\n",
    "       \n",
    "       return \n",
    "#isleapyear(2019)\n",
    "def daysinyears(a,c):\n",
    "    day=0\n",
    "    for i in range(a,c):\n",
    "        if isleapyear(i):\n",
    "            day=day+366\n",
    "        else:\n",
    "            day=day+366\n",
    "    return day\n",
    "daysinyears(2016,2017)\n",
    "def numberofhours(m1,y1,m2,y2):\n",
    "    dayy=0\n",
    "    for i in range(m1,13):\n",
    "        if numberofdaysinmonth(i):\n",
    "            dayy=dayy+31\n",
    "        else:\n",
    "            dayy=dayy+30\n",
    "    for \n",
    "        \n",
    "\n",
    "\n",
    "\n",
    "\n",
    "\n",
    "\n",
    "\n",
    "\n",
    "\n"
   ]
  },
  {
   "cell_type": "code",
   "execution_count": null,
   "metadata": {},
   "outputs": [],
   "source": [
    "def numberofdaysinmonth(month,year):\n",
    "    if month==2:\n",
    "        if year%400==0 or (year%100!=0 and year%4==0):\n",
    "            return 29\n",
    "        return 28\n",
    "    elif (month<=7 and month%2!=0 and month!=2) or (month>=8 and month%2==0 and month!=2):\n",
    "        return 31\n",
    "    else:\n",
    "        return 30\n",
    "numberofdaysinmonth(2,2020)\n",
    "def daysinstartyear(startmonth,startyear):\n",
    "    days=0\n",
    "    for i in range(startmonth,13):\n",
    "        days=days+numberofdaysinmonth(i,startyear)\n",
    "    return days\n",
    "#daysinstartyear(1,2020)\n",
    "def daysinendyear(endmonth,endyear):\n",
    "    days=0\n",
    "    for i in range(1,endmonth+1):\n",
    "        days+=numberofdaysinmonth(i,endyear)\n",
    "    return days\n",
    "#daysinendyear(6,2019)\n",
    "def numberofdays(startyear,endyear):\n",
    "    days=0\n",
    "    for i in range(startyear,endyear+1):\n",
    "        if issleapyear(i):\n",
    "            days=days+366\n",
    "        else:\n",
    "            days=days+365\n",
    "    #print(days)\n",
    "    return days\n",
    "numberofdays(1975,2000)\n",
    "def numberofhours(startmonth,startyear,endmonth,endyear):\n",
    "    days=0\n",
    "    days += daysinstartyear(startmonth,startyear)\n",
    "    days += daysinendyear(endmonth,endyear)\n",
    "    if endyear - startyear==2:\n",
    "            days += numberofdays(startyear+1, startyear+1)\n",
    "    elif endyear-startyear>2:\n",
    "        days=days+numberofdays(startyear+1, endyear-1)\n",
    "    #elif startyear==endyear:\n",
    "       # print (days*24)\n",
    "    else:\n",
    "        for month in range(startmonth, endmonth+1):\n",
    "            days += numberOfDaysMonth(month, startyear)\n",
    "    return days\n",
    "    \n",
    "\n",
    "#numberofhours(6,1975,7,1975)\n",
    "        \n",
    "        \n",
    "        "
   ]
  },
  {
   "cell_type": "code",
   "execution_count": 8,
   "metadata": {},
   "outputs": [
    {
     "ename": "NameError",
     "evalue": "name 'issleapyear' is not defined",
     "output_type": "error",
     "traceback": [
      "\u001b[1;31m---------------------------------------------------------------------------\u001b[0m",
      "\u001b[1;31mNameError\u001b[0m                                 Traceback (most recent call last)",
      "\u001b[1;32m<ipython-input-8-ce3acc7ddc1d>\u001b[0m in \u001b[0;36m<module>\u001b[1;34m\u001b[0m\n\u001b[0;32m     35\u001b[0m     \u001b[1;32mreturn\u001b[0m \u001b[1;36m24\u001b[0m \u001b[1;33m*\u001b[0m \u001b[0mdays\u001b[0m\u001b[1;33m\u001b[0m\u001b[1;33m\u001b[0m\u001b[0m\n\u001b[0;32m     36\u001b[0m \u001b[1;33m\u001b[0m\u001b[0m\n\u001b[1;32m---> 37\u001b[1;33m \u001b[0mnumberOfHours\u001b[0m\u001b[1;33m(\u001b[0m\u001b[1;36m11\u001b[0m\u001b[1;33m,\u001b[0m \u001b[1;36m1975\u001b[0m\u001b[1;33m,\u001b[0m \u001b[1;36m3\u001b[0m\u001b[1;33m,\u001b[0m \u001b[1;36m1999\u001b[0m\u001b[1;33m)\u001b[0m\u001b[1;33m\u001b[0m\u001b[1;33m\u001b[0m\u001b[0m\n\u001b[0m",
      "\u001b[1;32m<ipython-input-8-ce3acc7ddc1d>\u001b[0m in \u001b[0;36mnumberOfHours\u001b[1;34m(startmonth, startyear, endmonth, endyear)\u001b[0m\n\u001b[0;32m     25\u001b[0m     \u001b[1;32mif\u001b[0m \u001b[0mstartyear\u001b[0m \u001b[1;33m!=\u001b[0m \u001b[0mendyear\u001b[0m\u001b[1;33m:\u001b[0m\u001b[1;33m\u001b[0m\u001b[1;33m\u001b[0m\u001b[0m\n\u001b[0;32m     26\u001b[0m         \u001b[0mdays\u001b[0m \u001b[1;33m+=\u001b[0m \u001b[0mdaysInStartYear\u001b[0m\u001b[1;33m(\u001b[0m\u001b[0mstartmonth\u001b[0m\u001b[1;33m,\u001b[0m \u001b[0mstartyear\u001b[0m\u001b[1;33m)\u001b[0m\u001b[1;33m\u001b[0m\u001b[1;33m\u001b[0m\u001b[0m\n\u001b[1;32m---> 27\u001b[1;33m         \u001b[0mdays\u001b[0m \u001b[1;33m+=\u001b[0m \u001b[0mdaysInEndYear\u001b[0m\u001b[1;33m(\u001b[0m\u001b[0mendmonth\u001b[0m\u001b[1;33m,\u001b[0m \u001b[0mendyear\u001b[0m\u001b[1;33m)\u001b[0m\u001b[1;33m\u001b[0m\u001b[1;33m\u001b[0m\u001b[0m\n\u001b[0m\u001b[0;32m     28\u001b[0m         \u001b[1;32mif\u001b[0m \u001b[0mendyear\u001b[0m \u001b[1;33m-\u001b[0m \u001b[0mstartyear\u001b[0m \u001b[1;33m==\u001b[0m \u001b[1;36m2\u001b[0m\u001b[1;33m:\u001b[0m \u001b[1;31m# 2019 - 2017\u001b[0m\u001b[1;33m\u001b[0m\u001b[1;33m\u001b[0m\u001b[0m\n\u001b[0;32m     29\u001b[0m             \u001b[0mdays\u001b[0m \u001b[1;33m+=\u001b[0m \u001b[0mnumberOfDays\u001b[0m\u001b[1;33m(\u001b[0m\u001b[0mstartyear\u001b[0m\u001b[1;33m+\u001b[0m\u001b[1;36m1\u001b[0m\u001b[1;33m,\u001b[0m \u001b[0mstartyear\u001b[0m\u001b[1;33m+\u001b[0m\u001b[1;36m1\u001b[0m\u001b[1;33m)\u001b[0m\u001b[1;33m\u001b[0m\u001b[1;33m\u001b[0m\u001b[0m\n",
      "\u001b[1;32m<ipython-input-8-ce3acc7ddc1d>\u001b[0m in \u001b[0;36mdaysInEndYear\u001b[1;34m(endmonth, endyear)\u001b[0m\n\u001b[0;32m     18\u001b[0m     \u001b[0mdays\u001b[0m \u001b[1;33m=\u001b[0m \u001b[1;36m0\u001b[0m\u001b[1;33m\u001b[0m\u001b[1;33m\u001b[0m\u001b[0m\n\u001b[0;32m     19\u001b[0m     \u001b[1;32mfor\u001b[0m \u001b[0mmonth\u001b[0m \u001b[1;32min\u001b[0m \u001b[0mrange\u001b[0m\u001b[1;33m(\u001b[0m\u001b[1;36m1\u001b[0m\u001b[1;33m,\u001b[0m \u001b[0mendmonth\u001b[0m\u001b[1;33m+\u001b[0m\u001b[1;36m1\u001b[0m\u001b[1;33m)\u001b[0m\u001b[1;33m:\u001b[0m\u001b[1;33m\u001b[0m\u001b[1;33m\u001b[0m\u001b[0m\n\u001b[1;32m---> 20\u001b[1;33m         \u001b[0mdays\u001b[0m \u001b[1;33m+=\u001b[0m \u001b[0mnumberOfDaysMonth\u001b[0m\u001b[1;33m(\u001b[0m\u001b[0mmonth\u001b[0m\u001b[1;33m,\u001b[0m \u001b[0mendyear\u001b[0m\u001b[1;33m)\u001b[0m\u001b[1;33m\u001b[0m\u001b[1;33m\u001b[0m\u001b[0m\n\u001b[0m\u001b[0;32m     21\u001b[0m     \u001b[1;32mreturn\u001b[0m \u001b[0mdays\u001b[0m\u001b[1;33m\u001b[0m\u001b[1;33m\u001b[0m\u001b[0m\n\u001b[0;32m     22\u001b[0m \u001b[1;33m\u001b[0m\u001b[0m\n",
      "\u001b[1;32m<ipython-input-8-ce3acc7ddc1d>\u001b[0m in \u001b[0;36mnumberOfDaysMonth\u001b[1;34m(month, year)\u001b[0m\n\u001b[0;32m      1\u001b[0m \u001b[1;32mdef\u001b[0m \u001b[0mnumberOfDaysMonth\u001b[0m\u001b[1;33m(\u001b[0m\u001b[0mmonth\u001b[0m\u001b[1;33m,\u001b[0m \u001b[0myear\u001b[0m\u001b[1;33m)\u001b[0m\u001b[1;33m:\u001b[0m\u001b[1;33m\u001b[0m\u001b[1;33m\u001b[0m\u001b[0m\n\u001b[0;32m      2\u001b[0m     \u001b[1;32mif\u001b[0m \u001b[0mmonth\u001b[0m \u001b[1;33m==\u001b[0m \u001b[1;36m2\u001b[0m\u001b[1;33m:\u001b[0m\u001b[1;33m\u001b[0m\u001b[1;33m\u001b[0m\u001b[0m\n\u001b[1;32m----> 3\u001b[1;33m         \u001b[1;32mif\u001b[0m \u001b[0missleapyear\u001b[0m\u001b[1;33m(\u001b[0m\u001b[0myear\u001b[0m\u001b[1;33m)\u001b[0m\u001b[1;33m:\u001b[0m\u001b[1;33m\u001b[0m\u001b[1;33m\u001b[0m\u001b[0m\n\u001b[0m\u001b[0;32m      4\u001b[0m             \u001b[1;32mreturn\u001b[0m \u001b[1;36m29\u001b[0m\u001b[1;33m\u001b[0m\u001b[1;33m\u001b[0m\u001b[0m\n\u001b[0;32m      5\u001b[0m         \u001b[1;32mreturn\u001b[0m \u001b[1;36m28\u001b[0m\u001b[1;33m\u001b[0m\u001b[1;33m\u001b[0m\u001b[0m\n",
      "\u001b[1;31mNameError\u001b[0m: name 'issleapyear' is not defined"
     ]
    }
   ],
   "source": [
    "def numberOfDaysMonth(month, year):\n",
    "    if month == 2:\n",
    "        if issleapyear(year):\n",
    "            return 29\n",
    "        return 28\n",
    "    elif (month <= 7 and month % 2!= 0) or (month >= 8 and month % 2 == 0):\n",
    "        return 31\n",
    "    else:\n",
    "        return 30\n",
    "\n",
    "def daysInStartYear(startmonth, startyear):\n",
    "    days = 0 \n",
    "    for month in range(startmonth, 13):\n",
    "        days += numberOfDaysMonth(month, startyear)\n",
    "    return days    \n",
    "\n",
    "def daysInEndYear(endmonth, endyear):\n",
    "    days = 0\n",
    "    for month in range(1, endmonth+1):\n",
    "        days += numberOfDaysMonth(month, endyear)\n",
    "    return days\n",
    "\n",
    "def numberOfHours(startmonth, startyear, endmonth, endyear):\n",
    "    days = 0\n",
    "    if startyear != endyear:\n",
    "        days += daysInStartYear(startmonth, startyear)\n",
    "        days += daysInEndYear(endmonth, endyear)\n",
    "        if endyear - startyear == 2: # 2019 - 2017\n",
    "            days += numberOfDays(startyear+1, startyear+1)\n",
    "        elif endyear - startyear > 2:\n",
    "            days += numberOfDays(startyear+1, endyear-1)\n",
    "    else:\n",
    "        for month in range(startmonth, endmonth+1):\n",
    "            days += numberOfDaysMonth(month, startyear)\n",
    "    return 24 * days\n",
    "\n",
    "numberOfHours(11, 1975, 3, 1999)"
   ]
  },
  {
   "cell_type": "code",
   "execution_count": null,
   "metadata": {},
   "outputs": [],
   "source": []
  },
  {
   "cell_type": "code",
   "execution_count": null,
   "metadata": {},
   "outputs": [],
   "source": []
  }
 ],
 "metadata": {
  "kernelspec": {
   "display_name": "Python 3",
   "language": "python",
   "name": "python3"
  },
  "language_info": {
   "codemirror_mode": {
    "name": "ipython",
    "version": 3
   },
   "file_extension": ".py",
   "mimetype": "text/x-python",
   "name": "python",
   "nbconvert_exporter": "python",
   "pygments_lexer": "ipython3",
   "version": "3.7.3"
  }
 },
 "nbformat": 4,
 "nbformat_minor": 2
}
