{
 "cells": [
  {
   "cell_type": "markdown",
   "metadata": {},
   "source": [
    "### Additional problems"
   ]
  },
  {
   "cell_type": "code",
   "execution_count": 1,
   "metadata": {},
   "outputs": [
    {
     "name": "stdout",
     "output_type": "stream",
     "text": [
      "average of factorial in given range is 4.4\n"
     ]
    }
   ],
   "source": [
    "#function to calculate average of all facors of a number\n",
    "def avgoffactors(n,lb,ub):\n",
    "    sum=0\n",
    "    count=0\n",
    "    for lb in range(lb,ub+1):\n",
    "        if n%lb==0:\n",
    "            sum=sum+lb\n",
    "            count=count+1\n",
    "    print(\"average of factorial in given range is\", sum/count)\n",
    "    return\n",
    "avgoffactors(20,1,10)\n"
   ]
  },
  {
   "cell_type": "code",
   "execution_count": 2,
   "metadata": {},
   "outputs": [
    {
     "name": "stdout",
     "output_type": "stream",
     "text": [
      "avg of facorials 3.0\n"
     ]
    }
   ],
   "source": [
    "#avg of factorials in a given range\n",
    "def avgoffactorial(a,b):\n",
    "    s=0\n",
    "    for i in range (a,b+1):\n",
    "        f=1\n",
    "        for j in range(1,i+1):\n",
    "            f=f*j\n",
    "        s=s+f\n",
    "    #print(s)\n",
    "    #print(b-a+1)\n",
    "    print(\"avg of facorials\", s/(b-a+1))\n",
    "avgoffactorial(1,3)\n",
    "    "
   ]
  },
  {
   "cell_type": "code",
   "execution_count": 3,
   "metadata": {},
   "outputs": [
    {
     "name": "stdout",
     "output_type": "stream",
     "text": [
      "153\n",
      "371\n",
      "407\n"
     ]
    }
   ],
   "source": [
    "def NoddangstromNum(n):\n",
    "    #count=0\n",
    "    num=100\n",
    "    while(n):\n",
    "        s=0\n",
    "        temp=num\n",
    "        #b=len(str(num))\n",
    "        #rem=0\n",
    "        while(temp>0):\n",
    "            rem=temp%10\n",
    "            s=s+rem**3\n",
    "            temp=temp//10\n",
    "        if s==num:\n",
    "            if num%2!=0:\n",
    "                print(num)\n",
    "                #count=count+1\n",
    "                n=n-1\n",
    "        num=num+1\n",
    "NoddangstromNum(3)\n",
    "\n",
    "        \n",
    "        "
   ]
  },
  {
   "cell_type": "code",
   "execution_count": null,
   "metadata": {},
   "outputs": [],
   "source": [
    "#function to generate first n angstrom numbers\n",
    "def NoddangstromNum(n):\n",
    "    #count=0\n",
    "    num=1\n",
    "    while(n):\n",
    "        s=0\n",
    "        temp=num\n",
    "        if num%2!=0:\n",
    "            b=len(str(num))\n",
    "            while(temp>0):\n",
    "                rem=temp%10\n",
    "                s=s+rem**b\n",
    "                temp=temp//10\n",
    "            if s==num:\n",
    "                print(num)\n",
    "                n=n-1\n",
    "        num=num+1\n",
    "NoddangstromNum(10)\n",
    "\n",
    "        \n",
    "        "
   ]
  },
  {
   "cell_type": "code",
   "execution_count": null,
   "metadata": {},
   "outputs": [],
   "source": [
    "def multiplicationtable(num,m,n):\n",
    "    for i in range(m,n+1):\n",
    "        print(num, \"X\", i, \"=\", num*i)\n",
    "multiplicationtable(10,100,102)\n"
   ]
  },
  {
   "cell_type": "code",
   "execution_count": null,
   "metadata": {},
   "outputs": [],
   "source": []
  },
  {
   "cell_type": "code",
   "execution_count": null,
   "metadata": {},
   "outputs": [],
   "source": []
  },
  {
   "cell_type": "code",
   "execution_count": null,
   "metadata": {},
   "outputs": [],
   "source": []
  },
  {
   "cell_type": "code",
   "execution_count": null,
   "metadata": {},
   "outputs": [],
   "source": []
  },
  {
   "cell_type": "code",
   "execution_count": null,
   "metadata": {},
   "outputs": [],
   "source": []
  }
 ],
 "metadata": {
  "kernelspec": {
   "display_name": "Python 3",
   "language": "python",
   "name": "python3"
  },
  "language_info": {
   "codemirror_mode": {
    "name": "ipython",
    "version": 3
   },
   "file_extension": ".py",
   "mimetype": "text/x-python",
   "name": "python",
   "nbconvert_exporter": "python",
   "pygments_lexer": "ipython3",
   "version": "3.7.3"
  }
 },
 "nbformat": 4,
 "nbformat_minor": 2
}
