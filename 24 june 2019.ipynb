{
 "cells": [
  {
   "cell_type": "code",
   "execution_count": null,
   "metadata": {},
   "outputs": [],
   "source": [
    "# binaryquery \n",
    "n,m=map(int,input().split())\n",
    "l=list(map(int,input().split()))\n",
    "\n",
    "def binaryqueue(l):\n",
    "    a=list(map(int,input().split()))\n",
    "    #c=list(map(int,input().split()))\n",
    "    if a[0]==1:\n",
    "        l[a[1]-1]=l[a[1]-1]^1# exor function flips the previous value\n",
    "    if a[0]==0:\n",
    "      if l[a[2]-1]==0:\n",
    "          print(\"EVEN\")\n",
    "      else:\n",
    "          print(\"ODD\")\n",
    "for i in range(m):\n",
    "    binaryqueue(l)\n",
    "\n",
    "            "
   ]
  },
  {
   "cell_type": "code",
   "execution_count": 4,
   "metadata": {},
   "outputs": [
    {
     "data": {
      "text/plain": [
       "7"
      ]
     },
     "execution_count": 4,
     "metadata": {},
     "output_type": "execute_result"
    }
   ],
   "source": [
    "#binary to decimal\n",
    "a='111'\n",
    "b=int(a,2)\n",
    "b\n"
   ]
  },
  {
   "cell_type": "code",
   "execution_count": null,
   "metadata": {},
   "outputs": [],
   "source": []
  }
 ],
 "metadata": {
  "kernelspec": {
   "display_name": "Python 3",
   "language": "python",
   "name": "python3"
  },
  "language_info": {
   "codemirror_mode": {
    "name": "ipython",
    "version": 3
   },
   "file_extension": ".py",
   "mimetype": "text/x-python",
   "name": "python",
   "nbconvert_exporter": "python",
   "pygments_lexer": "ipython3",
   "version": "3.7.3"
  }
 },
 "nbformat": 4,
 "nbformat_minor": 2
}
