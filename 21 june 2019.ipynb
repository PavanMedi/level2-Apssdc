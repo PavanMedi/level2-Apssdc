{
 "cells": [
  {
   "cell_type": "code",
   "execution_count": 1,
   "metadata": {},
   "outputs": [
    {
     "name": "stdout",
     "output_type": "stream",
     "text": [
      "LLRRD\n",
      "0 -1 "
     ]
    }
   ],
   "source": [
    "def mazerunner(s):\n",
    "    ip=[0,0]\n",
    "    for i in s:\n",
    "        if i=='L':\n",
    "            ip[0]=ip[0]-1\n",
    "            #ip[1]=ip[1]\n",
    "            #print(ip[0],ip[1])\n",
    "        elif i=='R':\n",
    "            ip[0]=ip[0]+1\n",
    "            #ip[1]=ip[1]\n",
    "            #print(ip[0],ip[1])\n",
    "        elif i=='U':\n",
    "            #ip[0]=ip[0]\n",
    "            ip[1]=ip[1]+1\n",
    "            #print(ip[0],ip[1])\n",
    "        elif i=='D':\n",
    "            #ip[0]=ip[0]\n",
    "            ip[1]=ip[1]-1\n",
    "            #print(ip[0],ip[1])\n",
    "    for i in ip:\n",
    "           print(i,end=\" \")\n",
    "s=input()\n",
    "mazerunner(s)"
   ]
  },
  {
   "cell_type": "code",
   "execution_count": 16,
   "metadata": {},
   "outputs": [
    {
     "name": "stdout",
     "output_type": "stream",
     "text": [
      "False\n",
      "name3 added to contacts\n"
     ]
    }
   ],
   "source": [
    "#functions to add contact to contacts.txt\n",
    "import re\n",
    "from packages.validaters import phonenumvalidater as pnv, emailvalidater as ev\n",
    "filename='datafiles/contacts.txt'\n",
    "def addcontact(name,phone,email):\n",
    "    #with open(filename,'r') as p:\n",
    "        \n",
    "    #store data as name,phone,email in the contacts file\n",
    "    if not checkcontactexists(name):\n",
    "        if pnv(phone) and ev(email):\n",
    "            with open(filename,'a') as f:\n",
    "                line = name+','+str(phone)+','+email+'\\n'\n",
    "                f.write(line)\n",
    "            print(name,'added to contacts')\n",
    "            \n",
    "        else:\n",
    "            print(\"u have entered incorrect phonenum/mail\")\n",
    "            \n",
    "            \n",
    "     \n",
    "    else:\n",
    "        print(name,\"already exists\")\n",
    "    return\n",
    "#addcontact(\"name5\",9109281099,\"name5adh@gmail.com\")\n",
    "#function to check if contact alrelady exists\n",
    "def checkcontactexists(name):\n",
    "    with open(filename,'r') as f:\n",
    "        filedata=f.read()\n",
    "    return re.search(name,filedata)\n",
    "if checkcontactexists(\"name5,\"):\n",
    "    print(True)\n",
    "else:\n",
    "    print(False)\n",
    "    \n",
    "    \n",
    "addcontact(\"name3\",8297651907,\"name4fja@gmail.com\")    \n",
    "    \n",
    "            \n",
    "        \n",
    "    \n",
    "    "
   ]
  },
  {
   "cell_type": "code",
   "execution_count": 10,
   "metadata": {},
   "outputs": [
    {
     "name": "stdout",
     "output_type": "stream",
     "text": [
      "None\n"
     ]
    }
   ],
   "source": [
    "def listcontacts(filename):\n",
    "    with open(filename,'w+') as p:\n",
    "        for line in p.readlines():\n",
    "            return line+\"\\n\"\n",
    "filename='datafiles/contacts.txt'\n",
    "print(listcontacts(filename))"
   ]
  },
  {
   "cell_type": "code",
   "execution_count": null,
   "metadata": {},
   "outputs": [],
   "source": [
    "def search(filename,key):\n",
    "    "
   ]
  },
  {
   "cell_type": "code",
   "execution_count": 12,
   "metadata": {},
   "outputs": [],
   "source": [
    "filename = 'dataFiles/contacts.txt'\n",
    "def csvToList(filename):\n",
    "    li = []\n",
    "    with open(filename, 'r') as f:\n",
    "        for line in f:\n",
    "            li.append(line.split(','))\n",
    "    return li\n",
    "    \n",
    "#csvToList(filename)\n",
    "\n",
    "def listToFile(li):\n",
    "    s = ''\n",
    "    for i in li:\n",
    "        s += ','.join(i)\n",
    "    return s\n",
    "    \n",
    "#li = csvToList(filename)\n",
    "#listToFile(li)\n"
   ]
  },
  {
   "cell_type": "code",
   "execution_count": 13,
   "metadata": {},
   "outputs": [
    {
     "name": "stdout",
     "output_type": "stream",
     "text": [
      "contact not found\n"
     ]
    }
   ],
   "source": [
    "def search(filename,key):\n",
    "    f1=csvToList(filename)\n",
    "    c=0\n",
    "    for i in f1:\n",
    "        if key==i[0]:\n",
    "            c=1\n",
    "            print(','.join(i))\n",
    "    \n",
    "    if c==0:\n",
    "        print(\"contact not found\")\n",
    "search(filename,\"kumar\")\n",
    "#csvToList(filename)\n",
    "    "
   ]
  },
  {
   "cell_type": "code",
   "execution_count": 14,
   "metadata": {},
   "outputs": [],
   "source": [
    "def keyindex(filename,key):\n",
    "    f1=csvToList(filename)\n",
    "    c=0\n",
    "    for i in f1:\n",
    "        if key==i[0]:\n",
    "            return f1.index(i)\n",
    "    \n",
    "    if c==0:\n",
    "        return -1\n",
    "#search(filename,\"kumar\")\n",
    "#csvToList(filename)"
   ]
  },
  {
   "cell_type": "code",
   "execution_count": 15,
   "metadata": {},
   "outputs": [
    {
     "name": "stdout",
     "output_type": "stream",
     "text": [
      "None\n"
     ]
    }
   ],
   "source": [
    "def contactdelete(filename,name):\n",
    "    i=keyindex(filename,name)\n",
    "    if i!=-1:\n",
    "        f1=csvToList(filename)\n",
    "        f1.pop(i)\n",
    "        s=listToFile(f1)\n",
    "        with open(filename,'r+') as f:\n",
    "            \n",
    "            f.write(s)\n",
    "            \n",
    "                \n",
    "            \n",
    "contactdelete(filename,\"kumar\")\n",
    "print(listcontacts(filename))\n"
   ]
  }
 ],
 "metadata": {
  "kernelspec": {
   "display_name": "Python 3",
   "language": "python",
   "name": "python3"
  },
  "language_info": {
   "codemirror_mode": {
    "name": "ipython",
    "version": 3
   },
   "file_extension": ".py",
   "mimetype": "text/x-python",
   "name": "python",
   "nbconvert_exporter": "python",
   "pygments_lexer": "ipython3",
   "version": "3.7.3"
  }
 },
 "nbformat": 4,
 "nbformat_minor": 2
}
