{
 "cells": [
  {
   "cell_type": "markdown",
   "metadata": {},
   "source": [
    "## exam problems\n"
   ]
  },
  {
   "cell_type": "markdown",
   "metadata": {},
   "source": [
    "#####  1.numof alpha and digits"
   ]
  },
  {
   "cell_type": "code",
   "execution_count": null,
   "metadata": {},
   "outputs": [],
   "source": []
  },
  {
   "cell_type": "code",
   "execution_count": null,
   "metadata": {},
   "outputs": [],
   "source": [
    "a=\"assa12311ASAHK\"\n",
    "digits=0\n",
    "alphabates=0\n",
    "for i in a:\n",
    "    if i.isalpha():\n",
    "        alphabates+=1\n",
    "    elif i.isdigit():\n",
    "        digits+=1\n",
    "print(\"alpha num\",alphabates,\"digitcount\",digits)"
   ]
  },
  {
   "cell_type": "markdown",
   "metadata": {},
   "source": [
    "### 2.is perfect num\n"
   ]
  },
  {
   "cell_type": "code",
   "execution_count": 1,
   "metadata": {},
   "outputs": [
    {
     "name": "stdout",
     "output_type": "stream",
     "text": [
      "3\n",
      "6\n",
      "perfect\n",
      "28\n",
      "perfect\n",
      "498\n",
      "not perfect\n"
     ]
    }
   ],
   "source": [
    "n=int(input())\n",
    "for i in range(1,n+1):\n",
    "    m=int(input())\n",
    "    def isperfectnum(m):\n",
    "        s=0\n",
    "        for j in range(1,m):\n",
    "            if m%j==0:\n",
    "                s+=j\n",
    "        if m==s:\n",
    "            print(\"perfect\")\n",
    "        else:\n",
    "            print(\"not perfect\")\n",
    "    isperfectnum(m)\n",
    "            \n"
   ]
  },
  {
   "cell_type": "markdown",
   "metadata": {},
   "source": [
    "## 3.p prime factors:\n"
   ]
  },
  {
   "cell_type": "code",
   "execution_count": 12,
   "metadata": {},
   "outputs": [
    {
     "name": "stdout",
     "output_type": "stream",
     "text": [
      "2\n",
      "6\n",
      "YES\n"
     ]
    }
   ],
   "source": [
    "def isprime(n):\n",
    "    c=0\n",
    "    for i in range(2,n+1):\n",
    "        if n%i==0:\n",
    "            c=c+1\n",
    "    if c==1:\n",
    "        return True\n",
    "    \n",
    "## actual problem\n",
    "p=int(input())\n",
    "m=int(input())\n",
    "count=0\n",
    "for j in range(1,m):\n",
    "    \n",
    "    if m%j==0:\n",
    "        if isprime(j):\n",
    "            count+=1\n",
    "if count==p:\n",
    "    print(\"YES\")\n",
    "else:\n",
    "    print(\"NO\")\n",
    "    "
   ]
  }
 ],
 "metadata": {
  "kernelspec": {
   "display_name": "Python 3",
   "language": "python",
   "name": "python3"
  },
  "language_info": {
   "codemirror_mode": {
    "name": "ipython",
    "version": 3
   },
   "file_extension": ".py",
   "mimetype": "text/x-python",
   "name": "python",
   "nbconvert_exporter": "python",
   "pygments_lexer": "ipython3",
   "version": "3.7.3"
  }
 },
 "nbformat": 4,
 "nbformat_minor": 2
}
