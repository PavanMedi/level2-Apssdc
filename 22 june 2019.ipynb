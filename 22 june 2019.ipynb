{
 "cells": [
  {
   "cell_type": "markdown",
   "metadata": {},
   "source": [
    "### DAY OBJECTIVES:\n",
    "- file handling\n",
    "     - basic file data processing\n",
    "         - accessing and modifying file\n",
    "     - character count\n",
    "     - line count\n",
    "     - file size\n",
    "     - word count\n",
    "     - unique word count\n",
    "     -"
   ]
  },
  {
   "cell_type": "code",
   "execution_count": 1,
   "metadata": {},
   "outputs": [
    {
     "data": {
      "text/plain": [
       "\"blowing my mind\\nlet's damage the liver bro\\nhad my lunch deadpool spider man\\n\""
      ]
     },
     "execution_count": 1,
     "metadata": {},
     "output_type": "execute_result"
    }
   ],
   "source": [
    "# read a file - file should exist(ReadMode)\n",
    "# write to a file - Existing(append mode) or New file(write mode)\n",
    "filename ='datafiles/basics.txt'\n",
    "def readfile(filename):\n",
    "    with open(filename,'r') as f:\n",
    "        filedata=f.read()\n",
    "    return filedata\n",
    "        \n",
    "    return\n",
    "#filename ='datafiles/basics.txt'\n",
    "readfile(filename)\n",
    "    "
   ]
  },
  {
   "cell_type": "code",
   "execution_count": 2,
   "metadata": {},
   "outputs": [],
   "source": [
    "# write to a file - Existing(append mode) or New file(write mode)\n",
    "filename ='datafiles/basics.txt'\n",
    "def writefile(filename):\n",
    "    with open(filename,'a') as f:\n",
    "        line=\"\\nlet's damage the liver bro\"\n",
    "        f.write(line)\n",
    "        \n",
    "    return\n",
    "#filename ='datafiles/basics.txtwritefile(filename)\n"
   ]
  },
  {
   "cell_type": "code",
   "execution_count": null,
   "metadata": {},
   "outputs": [],
   "source": []
  },
  {
   "cell_type": "code",
   "execution_count": 3,
   "metadata": {},
   "outputs": [
    {
     "name": "stdout",
     "output_type": "stream",
     "text": [
      "m\n",
      "5\n"
     ]
    }
   ],
   "source": [
    "#function to count the number of times that a given character repeates in the file\n",
    "def charcount(filename):\n",
    "    with open(filename,'r') as f:\n",
    "        \n",
    "        filedata=f.read().split(\" \")\n",
    "        s=''\n",
    "        #print(filedata)\n",
    "        for i in filedata:\n",
    "            j=i.split()\n",
    "            s=s+\" \".join(j)\n",
    "            #print(s)\n",
    "        #s=list(s)\n",
    "        #print(s)\n",
    "    c=0\n",
    "    for j in s:\n",
    "        if char==j:\n",
    "            c=c+1\n",
    "    \n",
    "        \n",
    "            \n",
    "  \n",
    "    print(c)\n",
    "char=input()\n",
    "charcount(filename)"
   ]
  },
  {
   "cell_type": "code",
   "execution_count": 21,
   "metadata": {},
   "outputs": [
    {
     "name": "stdout",
     "output_type": "stream",
     "text": [
      "['blowing', 'my', 'mind', \"let's\", 'damage', 'the', 'liver', 'bro', 'had', 'my', 'lunch', 'deadpool', 'spider', 'man']\n",
      "14\n"
     ]
    }
   ],
   "source": [
    "#function to count the number of words in a file\n",
    "def wordcount(filename):\n",
    "    with open(filename,'r') as f:\n",
    "        \n",
    "        a=f.read().split()\n",
    "        \n",
    "        print(a)\n",
    "        print(len(a))\n",
    "        \n",
    "wordcount(filename)"
   ]
  },
  {
   "cell_type": "code",
   "execution_count": 11,
   "metadata": {},
   "outputs": [
    {
     "name": "stdout",
     "output_type": "stream",
     "text": [
      "['blowing my mind\\n', \"let's damage the liver bro\\n\", 'had my lunch deadpool spider man\\n']\n"
     ]
    }
   ],
   "source": [
    "#function to read num of lines in a file\n",
    "def numoflines(filename):\n",
    "    with open(filename,'r') as f:\n",
    "        a=f.readlines()\n",
    "        print(a)#len(a)-->num of lines\n",
    "#filename=\"datafiles/basics.txt\"\n",
    "numoflines(filename)\n"
   ]
  },
  {
   "cell_type": "code",
   "execution_count": 56,
   "metadata": {},
   "outputs": [
    {
     "data": {
      "text/plain": [
       "['blowing',\n",
       " 'my',\n",
       " 'mind',\n",
       " \"let's\",\n",
       " 'damage',\n",
       " 'the',\n",
       " 'liver',\n",
       " 'bro',\n",
       " 'had',\n",
       " 'lunch',\n",
       " 'deadpool',\n",
       " 'spider',\n",
       " 'man']"
      ]
     },
     "execution_count": 56,
     "metadata": {},
     "output_type": "execute_result"
    }
   ],
   "source": [
    "# function to count num of different words\n",
    "def uniquewords(filename):\n",
    "    with open(filename,'r') as f:\n",
    "        a=f.read().split()\n",
    "        c=0\n",
    "        for i in a:\n",
    "            if a.count(i)==1:\n",
    "                print(i,end=\",\")\n",
    "                c+=1\n",
    "    print(c)\n",
    "\n",
    "#uniquewords(filename)\n",
    "\n",
    "def uniquedata(filename):\n",
    "    with open(filename,'r') as f:\n",
    "        a=f.read().split()\n",
    "        c=[]\n",
    "        #print(a)\n",
    "        for i in a:\n",
    "            if i not in c:\n",
    "                c.append(i)\n",
    "        return c        \n",
    "        #print(len(c))\n",
    "uniquedata(filename)\n",
    "    "
   ]
  },
  {
   "cell_type": "code",
   "execution_count": 63,
   "metadata": {},
   "outputs": [
    {
     "data": {
      "text/plain": [
       "{'data': 3, 'line': 3, '1': 1, '2': 1, '3': 1}"
      ]
     },
     "execution_count": 63,
     "metadata": {},
     "output_type": "execute_result"
    }
   ],
   "source": [
    "#function to count the frequency count of unique data\n",
    "def frequencycount(filename):\n",
    "    with open(filename,'r') as f:\n",
    "        a=f.read().split()\n",
    "    b=uniquedata(filename)\n",
    "    d={}\n",
    "    for i in a:\n",
    "        if i in d:\n",
    "            d[i]+=1\n",
    "        else:\n",
    "            d[i]=1\n",
    "    return d\n",
    "frequencycount(filename)\n",
    "        \n"
   ]
  },
  {
   "cell_type": "code",
   "execution_count": 7,
   "metadata": {},
   "outputs": [],
   "source": [
    "#function to find size of the file\n"
   ]
  },
  {
   "cell_type": "code",
   "execution_count": 8,
   "metadata": {},
   "outputs": [],
   "source": [
    "#add num before line\n",
    "with open('datafiles/sample.txt','r') as f:\n",
    "    linenum=1\n",
    "    lines=f.readlines()\n",
    "f2=open('datafiles/sample.txt','w')\n",
    "#print(lines)\n",
    "for line in lines:\n",
    "    #f2.write(line)\n",
    "    print(linenum,line,end=\"\",sep='.',file=f2)\n",
    "    linenum+=1\n",
    "f2.close()\n",
    "    \n",
    "        \n",
    "\n"
   ]
  },
  {
   "cell_type": "code",
   "execution_count": 61,
   "metadata": {},
   "outputs": [
    {
     "name": "stdout",
     "output_type": "stream",
     "text": [
      " data data ten ten fk  fk popop\n",
      "{'data': 2, 'ten': 2, 'fk': 2, 'popop': 1}\n"
     ]
    }
   ],
   "source": [
    "#m=int(input())\n",
    "l=list(map(str,input().split()))\n",
    "a={}\n",
    "for i in l:\n",
    "    if i in a:\n",
    "        a[i]+=1\n",
    "    else:\n",
    "        a[i]=1\n",
    "print(a)         \n"
   ]
  }
 ],
 "metadata": {
  "kernelspec": {
   "display_name": "Python 3",
   "language": "python",
   "name": "python3"
  },
  "language_info": {
   "codemirror_mode": {
    "name": "ipython",
    "version": 3
   },
   "file_extension": ".py",
   "mimetype": "text/x-python",
   "name": "python",
   "nbconvert_exporter": "python",
   "pygments_lexer": "ipython3",
   "version": "3.7.3"
  }
 },
 "nbformat": 4,
 "nbformat_minor": 2
}
