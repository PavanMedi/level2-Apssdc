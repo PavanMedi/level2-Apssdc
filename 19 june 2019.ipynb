{
 "cells": [
  {
   "cell_type": "markdown",
   "metadata": {},
   "source": [
    "### hacker earth problems"
   ]
  },
  {
   "cell_type": "code",
   "execution_count": 32,
   "metadata": {},
   "outputs": [
    {
     "name": "stdout",
     "output_type": "stream",
     "text": [
      "5\n",
      "*   *\n",
      "*   *\n",
      "*****\n",
      "*   *\n",
      "*   *\n",
      "*****\n",
      "*   *\n",
      "*   *\n",
      "*****\n",
      "*   *\n",
      "*   *\n",
      "*****\n",
      "*   *\n",
      "*   *\n",
      "*****\n",
      "*   *\n",
      "*   *\n"
     ]
    }
   ],
   "source": [
    "#ladder\n",
    "def ladder(n):\n",
    "    for i in range(0,n+1):\n",
    "        for j in range(2):\n",
    "            print(\"*   *\",end=\"\\n\")\n",
    "        if (i<n):\n",
    "            print(\"*****\",end=\"\\n\")\n",
    "n=int(input())\n",
    "ladder(n)\n",
    "       \n",
    "   "
   ]
  },
  {
   "cell_type": "code",
   "execution_count": 31,
   "metadata": {},
   "outputs": [
    {
     "name": "stdout",
     "output_type": "stream",
     "text": [
      "3\n",
      "3 2\n",
      "5 2\n",
      "1 2\n",
      "3\n"
     ]
    }
   ],
   "source": [
    "#aman& mr.sharma\n",
    "count=0\n",
    "n=int(input())\n",
    "for i in range(n):\n",
    "    r,x=map(int,input().split())\n",
    "    if (2*(22/7)*r)<=100*x:\n",
    "        count+=1\n",
    "print(count)`\n",
    " "
   ]
  },
  {
   "cell_type": "code",
   "execution_count": null,
   "metadata": {},
   "outputs": [
    {
     "name": "stdout",
     "output_type": "stream",
     "text": [
      "2\n",
      "accdd\n",
      "accdde\n",
      "1\n"
     ]
    }
   ],
   "source": [
    "#anagram\n",
    "t=int(input())\n",
    "for i in range(t):\n",
    "        a=input()\n",
    "        b=input()\n",
    "        a=sorted(a)\n",
    "        b=sorted(b)\n",
    "        a=list(a)\n",
    "        b=list(b)\n",
    "        c=[]\n",
    "        count=0\n",
    "        for i in a:\n",
    "            if i in b:\n",
    "                count+=1\n",
    "        print (len(a)+len(b)-2*count)\n",
    "        "
   ]
  },
  {
   "cell_type": "code",
   "execution_count": 11,
   "metadata": {},
   "outputs": [
    {
     "name": "stdout",
     "output_type": "stream",
     "text": [
      "1401601499\n",
      "253\n",
      "Legal ISBN\n"
     ]
    }
   ],
   "source": [
    "#potion making\n",
    "n=int(input())\n",
    "sum=0\n",
    "if len(str(n))<10:\n",
    "    print(\"Illegal ISBN\")\n",
    "else:\n",
    "    for i in range(10,0,-1):\n",
    "        rem=n%10\n",
    "        n=n//10\n",
    "        sum=sum+rem*i\n",
    "    print(sum)\n",
    "    if sum%11==0:\n",
    "        print(\"Legal ISBN\")\n",
    "    else:\n",
    "        print(\"Illegal ISBN\")\n",
    "    \n"
   ]
  },
  {
   "cell_type": "code",
   "execution_count": 9,
   "metadata": {},
   "outputs": [
    {
     "data": {
      "text/plain": [
       "10"
      ]
     },
     "execution_count": 9,
     "metadata": {},
     "output_type": "execute_result"
    }
   ],
   "source": [
    "n=1401601499\n",
    "len(str(n))"
   ]
  },
  {
   "cell_type": "code",
   "execution_count": null,
   "metadata": {},
   "outputs": [],
   "source": [
    "# seating arrangement\n",
    "for i in range(int(input())):\n",
    "    n=int(input())\n",
    "    a=n%12\n",
    "    if a==0:\n",
    "        print(n-11,\"WS\")\n",
    "    elif a==1:\n",
    "        print(n+11,\"WS\")\n",
    "    elif a==2:\n",
    "        print(n+9,\"MS\")\n",
    "    elif a==3:\n",
    "        print(n+7,\"AS\")\n",
    "    elif a==4:\n",
    "        print(n+5,\"AS\")\n",
    "    elif a==5:\n",
    "        print(n+3,\"MS\")\n",
    "    elif a==6:\n",
    "        print(n+1,\"WS\")\n",
    "    elif a==7:\n",
    "        print(n-1,\"WS\")\n",
    "    elif a==8:\n",
    "        print(n-3,\"MS\")\n",
    "    elif a==9:\n",
    "        print(n-5,\"AS\")\n",
    "    elif a==10:\n",
    "        print(n-7,\"AS\")\n",
    "    elif a==11:\n",
    "        print(n-9,\"MS\")\n",
    "    "
   ]
  }
 ],
 "metadata": {
  "kernelspec": {
   "display_name": "Python 3",
   "language": "python",
   "name": "python3"
  },
  "language_info": {
   "codemirror_mode": {
    "name": "ipython",
    "version": 3
   },
   "file_extension": ".py",
   "mimetype": "text/x-python",
   "name": "python",
   "nbconvert_exporter": "python",
   "pygments_lexer": "ipython3",
   "version": "3.7.3"
  }
 },
 "nbformat": 4,
 "nbformat_minor": 2
}
