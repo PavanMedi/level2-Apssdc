{
 "cells": [
  {
   "cell_type": "markdown",
   "metadata": {},
   "source": [
    "#### closest zero\n"
   ]
  },
  {
   "cell_type": "code",
   "execution_count": null,
   "metadata": {},
   "outputs": [],
   "source": [
    "li = [-1, -2, 2, 3,1]\n",
    "li.sort()\n",
    "p=[]\n",
    "for i in li:\n",
    "    p.append(abs(i))\n",
    "    \n",
    "p.sort()\n",
    "if p[0] in li:\n",
    "    print(p[0])\n",
    "else:\n",
    "    print(-p[0])\n",
    "\n",
    "    \n",
    "    "
   ]
  },
  {
   "cell_type": "markdown",
   "metadata": {},
   "source": [
    "## Problem-3\n",
    "You are given 3 numbers a,b and c.\n",
    "write a program to find the largest number which is less than or equal to c and leaves  reminder b when divided by a.\n"
   ]
  },
  {
   "cell_type": "code",
   "execution_count": null,
   "metadata": {},
   "outputs": [],
   "source": [
    "a, b, c = 3, 2, 9\n",
    "if a>b and a>=c:\n",
    "    if a%c==b:\n",
    "        print (a)\n",
    "elif b>=c:\n",
    "    if b%a==b:\n",
    "        print (b)\n",
    "elif a<c and b<c:\n",
    "    if c%a==b:\n",
    "        print (c)\n",
    "else:\n",
    "    print(\"given correct input\")\n",
    "\n",
    "\n",
    "        \n",
    "        "
   ]
  },
  {
   "cell_type": "code",
   "execution_count": null,
   "metadata": {},
   "outputs": [],
   "source": []
  },
  {
   "cell_type": "code",
   "execution_count": null,
   "metadata": {},
   "outputs": [],
   "source": [
    "def cal(a, b, c):\n",
    "    for i in range(c, a+1, -1):\n",
    "        if i%a==b:\n",
    "            return i\n",
    "    return -1\n",
    "cal(3,2,100)\n",
    "            "
   ]
  },
  {
   "cell_type": "code",
   "execution_count": null,
   "metadata": {},
   "outputs": [],
   "source": [
    "s,r = \"aaa\", \"abc\"\n",
    "c=0\n",
    "for i in s:\n",
    "    if i in r:\n",
    "        c=c+1\n",
    "if c==len(s):\n",
    "    print(\"YES\")\n",
    "else:\n",
    "    print(\"NO\")"
   ]
  },
  {
   "cell_type": "markdown",
   "metadata": {},
   "source": [
    "## tasks"
   ]
  },
  {
   "cell_type": "code",
   "execution_count": null,
   "metadata": {},
   "outputs": [],
   "source": [
    "#two strings\n",
    "q=[\"pavan\",\"aavnp\"]\n",
    "r=q[0]\n",
    "s=q[1]\n",
    "s=list(s)\n",
    "r=list(r)\n",
    "s.sort()\n",
    "r.sort()\n",
    "if s==r:\n",
    "    print(\"YES\")\n",
    "else:\n",
    "    print(\"NO\")\n",
    "\n",
    "\n"
   ]
  },
  {
   "cell_type": "code",
   "execution_count": null,
   "metadata": {},
   "outputs": [],
   "source": [
    "#Play with numbers\n",
    "a=[4,4,5,1]\n",
    "n=3\n",
    "for i in range(1,4):\n",
    "    \n",
    "    n1=int(input(\"enter a num\"))\n",
    "    n2=int(input(\"enter a num\"))\n",
    "    s=0\n",
    "    for i in range(n1,n2+1):\n",
    "        s=s+a[i]\n",
    "    print(int(s/(n2-n1+1)))"
   ]
  },
  {
   "cell_type": "code",
   "execution_count": null,
   "metadata": {},
   "outputs": [],
   "source": [
    "#char sum\n",
    "a=\"aba\"\n",
    "s=0\n",
    "for i in a:\n",
    "    s=s+(ord(i)-96)\n",
    "print(s)\n"
   ]
  },
  {
   "cell_type": "code",
   "execution_count": null,
   "metadata": {},
   "outputs": [],
   "source": [
    "#prime numbers:\n",
    "n=10\n",
    "for i in range(2,n,1):\n",
    "    count=0\n",
    "    for j in range(2,i+1):\n",
    "        if i%j==0:\n",
    "            count=count+1\n",
    "    if count==1:\n",
    "         print(i)\n",
    "    "
   ]
  },
  {
   "cell_type": "code",
   "execution_count": null,
   "metadata": {},
   "outputs": [],
   "source": [
    "#togglestring\n",
    "s=\"abAkjKBDUlminis\"\n",
    "def togglestring(s):\n",
    "    for i in s:\n",
    "        if i.islower():\n",
    "            i=i.upper()\n",
    "        else:\n",
    "            i=i.lower()\n",
    "        print(i,end=\"\")\n",
    "togglestring(s)\n",
    "        \n",
    "        "
   ]
  },
  {
   "cell_type": "code",
   "execution_count": null,
   "metadata": {},
   "outputs": [],
   "source": [
    "#palindrome\n",
    "def palindrome(s):\n",
    "    if s==s[::-1]:\n",
    "        print(\"YES\")\n",
    "    else:\n",
    "        print(\"NO\")\n",
    "s=input()\n",
    "palindrome(s)"
   ]
  },
  {
   "cell_type": "code",
   "execution_count": null,
   "metadata": {},
   "outputs": [],
   "source": [
    "#countdivisors\n",
    "def number(l,r,k):\n",
    "    c=0\n",
    "    for i in range(l,r+1):\n",
    "        if i%k==0:\n",
    "            c=c+1\n",
    "    \n",
    "    return c\n",
    "l=list(map(int,input().split()))\n",
    "print(number(l[0],l[1],l[2]))"
   ]
  },
  {
   "cell_type": "code",
   "execution_count": null,
   "metadata": {},
   "outputs": [],
   "source": [
    "#factorial\n",
    "import math\n",
    "print(math.factorial(int(input())))"
   ]
  },
  {
   "cell_type": "code",
   "execution_count": null,
   "metadata": {},
   "outputs": [],
   "source": [
    "#play with numbers\n",
    "a,b=map(int,input().split())\n",
    "n=list(map(int,input().split()))\n",
    "for j in range(1,b+1):\n",
    "    c,d=map(int,input().split())\n",
    "    s=[ ]\n",
    "    for i in range(c-1,d):\n",
    "         s.append(n[i])\n",
    "    print(sum(s)//(d-c+1))\n",
    "    "
   ]
  },
  {
   "cell_type": "markdown",
   "metadata": {},
   "source": [
    "## duration problem:\n"
   ]
  },
  {
   "cell_type": "code",
   "execution_count": null,
   "metadata": {},
   "outputs": [],
   "source": [
    "def duration(hh1,mm1,hh2,mm2):\n",
    "    \n",
    "    "
   ]
  },
  {
   "cell_type": "code",
   "execution_count": 5,
   "metadata": {},
   "outputs": [
    {
     "name": "stdout",
     "output_type": "stream",
     "text": [
      "0 30\n"
     ]
    }
   ],
   "source": [
    "s=\"1 44 2 14\"\n",
    "def minutedifference(s):\n",
    "    s = s.split()\n",
    "    sh=int(s[0]) \n",
    "    sm=int(s[1])\n",
    "    eh=int(s[2])\n",
    "    em=int(s[3])\n",
    "    startminutes=(sh*60)+sm\n",
    "    endminutes=(eh*60)+em\n",
    "    minutes=endminutes-startminutes\n",
    "    return minutes\n",
    "def outputtimeformat(minutes):\n",
    "    hh=minutes//60\n",
    "    mm=minutes%60\n",
    "    print(hh, mm)\n",
    "minutes = minutedifference(s)\n",
    "outputtimeformat(minutes)\n",
    "\n",
    "\n",
    "    "
   ]
  }
 ],
 "metadata": {
  "kernelspec": {
   "display_name": "Python 3",
   "language": "python",
   "name": "python3"
  },
  "language_info": {
   "codemirror_mode": {
    "name": "ipython",
    "version": 3
   },
   "file_extension": ".py",
   "mimetype": "text/x-python",
   "name": "python",
   "nbconvert_exporter": "python",
   "pygments_lexer": "ipython3",
   "version": "3.7.3"
  }
 },
 "nbformat": 4,
 "nbformat_minor": 2
}
